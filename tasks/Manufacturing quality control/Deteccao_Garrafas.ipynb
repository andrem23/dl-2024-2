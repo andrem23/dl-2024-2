{
 "cells": [
  {
   "cell_type": "code",
   "execution_count": 1,
   "id": "eb100e82",
   "metadata": {},
   "outputs": [],
   "source": [
    "import cv2\n",
    "import numpy as np\n",
    "import pandas as pd\n",
    "from pathlib import Path \n",
    "import os\n",
    "from sklearn.model_selection import train_test_split\n",
    "import tensorflow as tf\n",
    "from tensorflow.keras.models import Sequential,load_model\n",
    "from tensorflow.keras.layers import Conv2D, MaxPooling2D, Flatten, Dense, Dropout\n",
    "from tensorflow.keras.optimizers import Adam\n",
    "import matplotlib.pyplot as plt\n",
    "import warnings\n",
    "warnings.filterwarnings('ignore')\n",
    "\n",
    "%matplotlib inline"
   ]
  },
  {
   "cell_type": "code",
   "execution_count": 2,
   "id": "5632971d",
   "metadata": {},
   "outputs": [],
   "source": [
    "# Configurações globais\n",
    "altu = 288\n",
    "larg = 186\n",
    "\n",
    "labels = [\n",
    "    \"CONTENT_HIGH\",\n",
    "    \"CONTENT_LOW\",\n",
    "    \"COVER_NONE\",\n",
    "    \"BOTTLE_SMASHED\",\n",
    "    \"LABEL_WHITE\",\n",
    "    \"LABEL_MISPLACED\",\n",
    "    \"LABEL_NONE\",\n",
    "    \"BOTTLE_NONE\"\n",
    "]\n"
   ]
  },
  {
   "cell_type": "code",
   "execution_count": 3,
   "id": "0e44fe28",
   "metadata": {},
   "outputs": [],
   "source": [
    "def detect_edges_refined_thin_lines(img_rgb):\n",
    "\n",
    "    gray = cv2.cvtColor(img_rgb, cv2.COLOR_RGB2GRAY)\n",
    "\n",
    "    smooth = cv2.bilateralFilter(gray, d=9, sigmaColor=75, sigmaSpace=75)\n",
    "\n",
    "    clahe = cv2.createCLAHE(clipLimit=2.0, tileGridSize=(8, 8))\n",
    "    enhanced = clahe.apply(smooth)\n",
    "\n",
    "    edges = cv2.Canny(enhanced, threshold1=50, threshold2=150)\n",
    "\n",
    "    kernel_dilate = cv2.getStructuringElement(cv2.MORPH_ELLIPSE, (3,3))\n",
    "    edges_dilated = cv2.dilate(edges, kernel_dilate, iterations=1)\n",
    "\n",
    "    kernel_erode = cv2.getStructuringElement(cv2.MORPH_ELLIPSE, (2,2))\n",
    "    edges_thin = cv2.erode(edges_dilated, kernel_erode, iterations=1)\n",
    "\n",
    "    edges_median = cv2.medianBlur(edges_thin, 3) \n",
    "\n",
    "    edges_smooth = cv2.GaussianBlur(edges_median, (5,5), sigmaX=1)\n",
    "\n",
    "    _, edges_final = cv2.threshold(edges_smooth, 50, 255, cv2.THRESH_BINARY)\n",
    "\n",
    "    return edges_final"
   ]
  },
  {
   "cell_type": "code",
   "execution_count": 4,
   "id": "347f53ff",
   "metadata": {},
   "outputs": [],
   "source": [
    "\n",
    "def find_bottle_boxes_by_vertical_stripes(edge_mask, min_area=200):\n",
    "    def binarize_mask(mask):\n",
    "        if len(mask.shape) == 3:\n",
    "            mask = cv2.cvtColor(mask, cv2.COLOR_BGR2GRAY)\n",
    "        _, bin_mask = cv2.threshold(mask, 127, 255, cv2.THRESH_BINARY)\n",
    "        return bin_mask\n",
    "\n",
    "    edge_bin = binarize_mask(edge_mask)\n",
    "    h, w = edge_bin.shape\n",
    "    stripe_width = w // 3\n",
    "\n",
    "    bounding_boxes = []\n",
    "    contours_all = []\n",
    "\n",
    "    img_contours = cv2.cvtColor(edge_bin, cv2.COLOR_GRAY2RGB)\n",
    "\n",
    "    for i in range(3):\n",
    "        x_start = i * stripe_width\n",
    "        x_end = (i + 1) * stripe_width if i < 2 else w\n",
    "\n",
    "        stripe_mask = np.zeros_like(edge_bin)\n",
    "        stripe_mask[:, x_start:x_end] = edge_bin[:, x_start:x_end]\n",
    "\n",
    "        contours, _ = cv2.findContours(stripe_mask, cv2.RETR_EXTERNAL, cv2.CHAIN_APPROX_SIMPLE)\n",
    "        contours = [c for c in contours if cv2.contourArea(c) > min_area]\n",
    "\n",
    "        if contours:\n",
    "            all_points = np.vstack(contours)\n",
    "            x, y, w_box, _ = cv2.boundingRect(all_points)\n",
    "            bounding_boxes.append((x, 0, w_box, h))\n",
    "            contours_all.extend(contours)\n",
    "            cv2.rectangle(img_contours, (x, 0), (x + w_box, h), (0, 255, 0), 2)\n",
    "        else:\n",
    "            bounding_boxes.append((x_start, 0, x_end - x_start, h))\n",
    "            cv2.rectangle(img_contours, (x_start, 0), (x_end, h), (0, 255, 0), 2)\n",
    "\n",
    "    return bounding_boxes, contours_all, img_contours\n"
   ]
  },
  {
   "cell_type": "code",
   "execution_count": 5,
   "id": "2fa6f733",
   "metadata": {},
   "outputs": [],
   "source": [
    "def tratamento_imagem(img):\n",
    "\n",
    "    edges_thin = detect_edges_refined_thin_lines(img)\n",
    "\n",
    "\n",
    "    bounding_boxes, contours_all, img_result = find_bottle_boxes_by_vertical_stripes(edges_thin, min_area=200)\n",
    "    img_height, img_width = edges_thin.shape[:2]\n",
    "    x, y, w, h = bounding_boxes[1]\n",
    "    margin = int(0.10 * img_width)\n",
    "    x_expanded = max(0, x - margin)\n",
    "    w_expanded = min(img_width - x_expanded, w + 2 * margin)\n",
    "    roi_center_expanded = edges_thin[y:y + h, x_expanded:x_expanded + w_expanded]\n",
    "    roi_color_expanded = img[y:y + h, x_expanded:x_expanded + w_expanded]\n",
    "\n",
    "    return cv2.cvtColor(roi_color_expanded, cv2.COLOR_RGB2BGR) \n",
    "\n"
   ]
  },
  {
   "cell_type": "code",
   "execution_count": 6,
   "id": "f9225e7f",
   "metadata": {},
   "outputs": [],
   "source": [
    "def carregar_imagens(img_dir, ids=None, df_labels=None):\n",
    "    imagens = []\n",
    "    rotulos = []\n",
    "    nomes_arquivos = []\n",
    "\n",
    "    if ids is None:\n",
    "        ids = sorted([f for f in os.listdir(img_dir) if f.endswith('.jpg')])\n",
    "\n",
    "    for file_id in ids:\n",
    "        img_path = os.path.join(img_dir, file_id)\n",
    "        img = cv2.imread(img_path)\n",
    "        img = cv2.cvtColor(img, cv2.COLOR_BGR2RGB)\n",
    "        img = tratamento_imagem(img)\n",
    "        img = cv2.resize(img, (larg, altu))\n",
    "        img = img / 255.0\n",
    "        \n",
    "        imagens.append(img)\n",
    "        nomes_arquivos.append(file_id)\n",
    "        \n",
    "        if df_labels is not None:\n",
    "            rotulos.append(df_labels[df_labels['id'] == file_id].iloc[0, 1:].values.astype(np.float32))\n",
    "\n",
    "    if df_labels is not None:\n",
    "        return np.array(imagens, dtype=np.float32), np.array(rotulos, dtype=np.float32)\n",
    "    else:\n",
    "        return np.array(imagens, dtype=np.float32), nomes_arquivos\n"
   ]
  },
  {
   "cell_type": "code",
   "execution_count": 7,
   "id": "4ac9c064",
   "metadata": {},
   "outputs": [],
   "source": [
    "df_labels = pd.read_csv(\"train.csv\")\n",
    "df_labels.fillna(0.0, inplace=True)\n",
    "\n",
    "X, y = carregar_imagens(\"./train\", ids=df_labels['id'].values, df_labels=df_labels)\n"
   ]
  },
  {
   "cell_type": "code",
   "execution_count": 8,
   "id": "83522689",
   "metadata": {},
   "outputs": [
    {
     "data": {
      "text/html": [
       "<pre style=\"white-space:pre;overflow-x:auto;line-height:normal;font-family:Menlo,'DejaVu Sans Mono',consolas,'Courier New',monospace\"><span style=\"font-weight: bold\">Model: \"sequential\"</span>\n",
       "</pre>\n"
      ],
      "text/plain": [
       "\u001b[1mModel: \"sequential\"\u001b[0m\n"
      ]
     },
     "metadata": {},
     "output_type": "display_data"
    },
    {
     "data": {
      "text/html": [
       "<pre style=\"white-space:pre;overflow-x:auto;line-height:normal;font-family:Menlo,'DejaVu Sans Mono',consolas,'Courier New',monospace\">┏━━━━━━━━━━━━━━━━━━━━━━━━━━━━━━━━━┳━━━━━━━━━━━━━━━━━━━━━━━━┳━━━━━━━━━━━━━━━┓\n",
       "┃<span style=\"font-weight: bold\"> Layer (type)                    </span>┃<span style=\"font-weight: bold\"> Output Shape           </span>┃<span style=\"font-weight: bold\">       Param # </span>┃\n",
       "┡━━━━━━━━━━━━━━━━━━━━━━━━━━━━━━━━━╇━━━━━━━━━━━━━━━━━━━━━━━━╇━━━━━━━━━━━━━━━┩\n",
       "│ conv2d (<span style=\"color: #0087ff; text-decoration-color: #0087ff\">Conv2D</span>)                 │ (<span style=\"color: #00d7ff; text-decoration-color: #00d7ff\">None</span>, <span style=\"color: #00af00; text-decoration-color: #00af00\">286</span>, <span style=\"color: #00af00; text-decoration-color: #00af00\">184</span>, <span style=\"color: #00af00; text-decoration-color: #00af00\">32</span>)   │           <span style=\"color: #00af00; text-decoration-color: #00af00\">896</span> │\n",
       "├─────────────────────────────────┼────────────────────────┼───────────────┤\n",
       "│ max_pooling2d (<span style=\"color: #0087ff; text-decoration-color: #0087ff\">MaxPooling2D</span>)    │ (<span style=\"color: #00d7ff; text-decoration-color: #00d7ff\">None</span>, <span style=\"color: #00af00; text-decoration-color: #00af00\">143</span>, <span style=\"color: #00af00; text-decoration-color: #00af00\">92</span>, <span style=\"color: #00af00; text-decoration-color: #00af00\">32</span>)    │             <span style=\"color: #00af00; text-decoration-color: #00af00\">0</span> │\n",
       "├─────────────────────────────────┼────────────────────────┼───────────────┤\n",
       "│ conv2d_1 (<span style=\"color: #0087ff; text-decoration-color: #0087ff\">Conv2D</span>)               │ (<span style=\"color: #00d7ff; text-decoration-color: #00d7ff\">None</span>, <span style=\"color: #00af00; text-decoration-color: #00af00\">141</span>, <span style=\"color: #00af00; text-decoration-color: #00af00\">90</span>, <span style=\"color: #00af00; text-decoration-color: #00af00\">64</span>)    │        <span style=\"color: #00af00; text-decoration-color: #00af00\">18,496</span> │\n",
       "├─────────────────────────────────┼────────────────────────┼───────────────┤\n",
       "│ max_pooling2d_1 (<span style=\"color: #0087ff; text-decoration-color: #0087ff\">MaxPooling2D</span>)  │ (<span style=\"color: #00d7ff; text-decoration-color: #00d7ff\">None</span>, <span style=\"color: #00af00; text-decoration-color: #00af00\">70</span>, <span style=\"color: #00af00; text-decoration-color: #00af00\">45</span>, <span style=\"color: #00af00; text-decoration-color: #00af00\">64</span>)     │             <span style=\"color: #00af00; text-decoration-color: #00af00\">0</span> │\n",
       "├─────────────────────────────────┼────────────────────────┼───────────────┤\n",
       "│ conv2d_2 (<span style=\"color: #0087ff; text-decoration-color: #0087ff\">Conv2D</span>)               │ (<span style=\"color: #00d7ff; text-decoration-color: #00d7ff\">None</span>, <span style=\"color: #00af00; text-decoration-color: #00af00\">68</span>, <span style=\"color: #00af00; text-decoration-color: #00af00\">43</span>, <span style=\"color: #00af00; text-decoration-color: #00af00\">128</span>)    │        <span style=\"color: #00af00; text-decoration-color: #00af00\">73,856</span> │\n",
       "├─────────────────────────────────┼────────────────────────┼───────────────┤\n",
       "│ max_pooling2d_2 (<span style=\"color: #0087ff; text-decoration-color: #0087ff\">MaxPooling2D</span>)  │ (<span style=\"color: #00d7ff; text-decoration-color: #00d7ff\">None</span>, <span style=\"color: #00af00; text-decoration-color: #00af00\">34</span>, <span style=\"color: #00af00; text-decoration-color: #00af00\">21</span>, <span style=\"color: #00af00; text-decoration-color: #00af00\">128</span>)    │             <span style=\"color: #00af00; text-decoration-color: #00af00\">0</span> │\n",
       "├─────────────────────────────────┼────────────────────────┼───────────────┤\n",
       "│ flatten (<span style=\"color: #0087ff; text-decoration-color: #0087ff\">Flatten</span>)               │ (<span style=\"color: #00d7ff; text-decoration-color: #00d7ff\">None</span>, <span style=\"color: #00af00; text-decoration-color: #00af00\">91392</span>)          │             <span style=\"color: #00af00; text-decoration-color: #00af00\">0</span> │\n",
       "├─────────────────────────────────┼────────────────────────┼───────────────┤\n",
       "│ dense (<span style=\"color: #0087ff; text-decoration-color: #0087ff\">Dense</span>)                   │ (<span style=\"color: #00d7ff; text-decoration-color: #00d7ff\">None</span>, <span style=\"color: #00af00; text-decoration-color: #00af00\">128</span>)            │    <span style=\"color: #00af00; text-decoration-color: #00af00\">11,698,304</span> │\n",
       "├─────────────────────────────────┼────────────────────────┼───────────────┤\n",
       "│ dropout (<span style=\"color: #0087ff; text-decoration-color: #0087ff\">Dropout</span>)               │ (<span style=\"color: #00d7ff; text-decoration-color: #00d7ff\">None</span>, <span style=\"color: #00af00; text-decoration-color: #00af00\">128</span>)            │             <span style=\"color: #00af00; text-decoration-color: #00af00\">0</span> │\n",
       "├─────────────────────────────────┼────────────────────────┼───────────────┤\n",
       "│ dense_1 (<span style=\"color: #0087ff; text-decoration-color: #0087ff\">Dense</span>)                 │ (<span style=\"color: #00d7ff; text-decoration-color: #00d7ff\">None</span>, <span style=\"color: #00af00; text-decoration-color: #00af00\">8</span>)              │         <span style=\"color: #00af00; text-decoration-color: #00af00\">1,032</span> │\n",
       "└─────────────────────────────────┴────────────────────────┴───────────────┘\n",
       "</pre>\n"
      ],
      "text/plain": [
       "┏━━━━━━━━━━━━━━━━━━━━━━━━━━━━━━━━━┳━━━━━━━━━━━━━━━━━━━━━━━━┳━━━━━━━━━━━━━━━┓\n",
       "┃\u001b[1m \u001b[0m\u001b[1mLayer (type)                   \u001b[0m\u001b[1m \u001b[0m┃\u001b[1m \u001b[0m\u001b[1mOutput Shape          \u001b[0m\u001b[1m \u001b[0m┃\u001b[1m \u001b[0m\u001b[1m      Param #\u001b[0m\u001b[1m \u001b[0m┃\n",
       "┡━━━━━━━━━━━━━━━━━━━━━━━━━━━━━━━━━╇━━━━━━━━━━━━━━━━━━━━━━━━╇━━━━━━━━━━━━━━━┩\n",
       "│ conv2d (\u001b[38;5;33mConv2D\u001b[0m)                 │ (\u001b[38;5;45mNone\u001b[0m, \u001b[38;5;34m286\u001b[0m, \u001b[38;5;34m184\u001b[0m, \u001b[38;5;34m32\u001b[0m)   │           \u001b[38;5;34m896\u001b[0m │\n",
       "├─────────────────────────────────┼────────────────────────┼───────────────┤\n",
       "│ max_pooling2d (\u001b[38;5;33mMaxPooling2D\u001b[0m)    │ (\u001b[38;5;45mNone\u001b[0m, \u001b[38;5;34m143\u001b[0m, \u001b[38;5;34m92\u001b[0m, \u001b[38;5;34m32\u001b[0m)    │             \u001b[38;5;34m0\u001b[0m │\n",
       "├─────────────────────────────────┼────────────────────────┼───────────────┤\n",
       "│ conv2d_1 (\u001b[38;5;33mConv2D\u001b[0m)               │ (\u001b[38;5;45mNone\u001b[0m, \u001b[38;5;34m141\u001b[0m, \u001b[38;5;34m90\u001b[0m, \u001b[38;5;34m64\u001b[0m)    │        \u001b[38;5;34m18,496\u001b[0m │\n",
       "├─────────────────────────────────┼────────────────────────┼───────────────┤\n",
       "│ max_pooling2d_1 (\u001b[38;5;33mMaxPooling2D\u001b[0m)  │ (\u001b[38;5;45mNone\u001b[0m, \u001b[38;5;34m70\u001b[0m, \u001b[38;5;34m45\u001b[0m, \u001b[38;5;34m64\u001b[0m)     │             \u001b[38;5;34m0\u001b[0m │\n",
       "├─────────────────────────────────┼────────────────────────┼───────────────┤\n",
       "│ conv2d_2 (\u001b[38;5;33mConv2D\u001b[0m)               │ (\u001b[38;5;45mNone\u001b[0m, \u001b[38;5;34m68\u001b[0m, \u001b[38;5;34m43\u001b[0m, \u001b[38;5;34m128\u001b[0m)    │        \u001b[38;5;34m73,856\u001b[0m │\n",
       "├─────────────────────────────────┼────────────────────────┼───────────────┤\n",
       "│ max_pooling2d_2 (\u001b[38;5;33mMaxPooling2D\u001b[0m)  │ (\u001b[38;5;45mNone\u001b[0m, \u001b[38;5;34m34\u001b[0m, \u001b[38;5;34m21\u001b[0m, \u001b[38;5;34m128\u001b[0m)    │             \u001b[38;5;34m0\u001b[0m │\n",
       "├─────────────────────────────────┼────────────────────────┼───────────────┤\n",
       "│ flatten (\u001b[38;5;33mFlatten\u001b[0m)               │ (\u001b[38;5;45mNone\u001b[0m, \u001b[38;5;34m91392\u001b[0m)          │             \u001b[38;5;34m0\u001b[0m │\n",
       "├─────────────────────────────────┼────────────────────────┼───────────────┤\n",
       "│ dense (\u001b[38;5;33mDense\u001b[0m)                   │ (\u001b[38;5;45mNone\u001b[0m, \u001b[38;5;34m128\u001b[0m)            │    \u001b[38;5;34m11,698,304\u001b[0m │\n",
       "├─────────────────────────────────┼────────────────────────┼───────────────┤\n",
       "│ dropout (\u001b[38;5;33mDropout\u001b[0m)               │ (\u001b[38;5;45mNone\u001b[0m, \u001b[38;5;34m128\u001b[0m)            │             \u001b[38;5;34m0\u001b[0m │\n",
       "├─────────────────────────────────┼────────────────────────┼───────────────┤\n",
       "│ dense_1 (\u001b[38;5;33mDense\u001b[0m)                 │ (\u001b[38;5;45mNone\u001b[0m, \u001b[38;5;34m8\u001b[0m)              │         \u001b[38;5;34m1,032\u001b[0m │\n",
       "└─────────────────────────────────┴────────────────────────┴───────────────┘\n"
      ]
     },
     "metadata": {},
     "output_type": "display_data"
    },
    {
     "data": {
      "text/html": [
       "<pre style=\"white-space:pre;overflow-x:auto;line-height:normal;font-family:Menlo,'DejaVu Sans Mono',consolas,'Courier New',monospace\"><span style=\"font-weight: bold\"> Total params: </span><span style=\"color: #00af00; text-decoration-color: #00af00\">11,792,584</span> (44.99 MB)\n",
       "</pre>\n"
      ],
      "text/plain": [
       "\u001b[1m Total params: \u001b[0m\u001b[38;5;34m11,792,584\u001b[0m (44.99 MB)\n"
      ]
     },
     "metadata": {},
     "output_type": "display_data"
    },
    {
     "data": {
      "text/html": [
       "<pre style=\"white-space:pre;overflow-x:auto;line-height:normal;font-family:Menlo,'DejaVu Sans Mono',consolas,'Courier New',monospace\"><span style=\"font-weight: bold\"> Trainable params: </span><span style=\"color: #00af00; text-decoration-color: #00af00\">11,792,584</span> (44.99 MB)\n",
       "</pre>\n"
      ],
      "text/plain": [
       "\u001b[1m Trainable params: \u001b[0m\u001b[38;5;34m11,792,584\u001b[0m (44.99 MB)\n"
      ]
     },
     "metadata": {},
     "output_type": "display_data"
    },
    {
     "data": {
      "text/html": [
       "<pre style=\"white-space:pre;overflow-x:auto;line-height:normal;font-family:Menlo,'DejaVu Sans Mono',consolas,'Courier New',monospace\"><span style=\"font-weight: bold\"> Non-trainable params: </span><span style=\"color: #00af00; text-decoration-color: #00af00\">0</span> (0.00 B)\n",
       "</pre>\n"
      ],
      "text/plain": [
       "\u001b[1m Non-trainable params: \u001b[0m\u001b[38;5;34m0\u001b[0m (0.00 B)\n"
      ]
     },
     "metadata": {},
     "output_type": "display_data"
    }
   ],
   "source": [
    "# Dividir os dados em treino e validação (80% treino, 20% validação)\n",
    "X_train, X_val, y_train, y_val = train_test_split(X, y, test_size=0.2, random_state=42)\n",
    "\n",
    "# Rede neural convolucional\n",
    "model = Sequential([\n",
    "    Conv2D(32, (3, 3), activation='relu', input_shape=(altu, larg, 3)),\n",
    "    MaxPooling2D(pool_size=(2, 2)),\n",
    "    \n",
    "    Conv2D(64, (3, 3), activation='relu'),\n",
    "    MaxPooling2D(pool_size=(2, 2)),\n",
    "    \n",
    "    Conv2D(128, (3, 3), activation='relu'),\n",
    "    MaxPooling2D(pool_size=(2, 2)),\n",
    "\n",
    "    Flatten(),\n",
    "    Dense(128, activation='relu'),\n",
    "    Dropout(0.5),\n",
    "    Dense(8, activation='sigmoid') \n",
    "])\n",
    "\n",
    "model.compile(optimizer=Adam(learning_rate=0.0001),\n",
    "              loss='binary_crossentropy', \n",
    "              metrics=['accuracy'])\n",
    "\n",
    "model.summary()"
   ]
  },
  {
   "cell_type": "code",
   "execution_count": 9,
   "id": "ed128246",
   "metadata": {},
   "outputs": [
    {
     "name": "stdout",
     "output_type": "stream",
     "text": [
      "Epoch 1/30\n",
      "\u001b[1m8/8\u001b[0m \u001b[32m━━━━━━━━━━━━━━━━━━━━\u001b[0m\u001b[37m\u001b[0m \u001b[1m4s\u001b[0m 289ms/step - accuracy: 0.1437 - loss: 0.5919 - val_accuracy: 0.6875 - val_loss: 0.3716\n",
      "Epoch 2/30\n",
      "\u001b[1m8/8\u001b[0m \u001b[32m━━━━━━━━━━━━━━━━━━━━\u001b[0m\u001b[37m\u001b[0m \u001b[1m2s\u001b[0m 263ms/step - accuracy: 0.2894 - loss: 0.4180 - val_accuracy: 0.6875 - val_loss: 0.3557\n",
      "Epoch 3/30\n",
      "\u001b[1m8/8\u001b[0m \u001b[32m━━━━━━━━━━━━━━━━━━━━\u001b[0m\u001b[37m\u001b[0m \u001b[1m2s\u001b[0m 276ms/step - accuracy: 0.2444 - loss: 0.4463 - val_accuracy: 0.6875 - val_loss: 0.3509\n",
      "Epoch 4/30\n",
      "\u001b[1m8/8\u001b[0m \u001b[32m━━━━━━━━━━━━━━━━━━━━\u001b[0m\u001b[37m\u001b[0m \u001b[1m2s\u001b[0m 293ms/step - accuracy: 0.3434 - loss: 0.3726 - val_accuracy: 0.7500 - val_loss: 0.3534\n",
      "Epoch 5/30\n",
      "\u001b[1m8/8\u001b[0m \u001b[32m━━━━━━━━━━━━━━━━━━━━\u001b[0m\u001b[37m\u001b[0m \u001b[1m2s\u001b[0m 296ms/step - accuracy: 0.4554 - loss: 0.4007 - val_accuracy: 0.6250 - val_loss: 0.3354\n",
      "Epoch 6/30\n",
      "\u001b[1m8/8\u001b[0m \u001b[32m━━━━━━━━━━━━━━━━━━━━\u001b[0m\u001b[37m\u001b[0m \u001b[1m2s\u001b[0m 287ms/step - accuracy: 0.2159 - loss: 0.3509 - val_accuracy: 0.8125 - val_loss: 0.3182\n",
      "Epoch 7/30\n",
      "\u001b[1m8/8\u001b[0m \u001b[32m━━━━━━━━━━━━━━━━━━━━\u001b[0m\u001b[37m\u001b[0m \u001b[1m2s\u001b[0m 292ms/step - accuracy: 0.2018 - loss: 0.3564 - val_accuracy: 0.7500 - val_loss: 0.2953\n",
      "Epoch 8/30\n",
      "\u001b[1m8/8\u001b[0m \u001b[32m━━━━━━━━━━━━━━━━━━━━\u001b[0m\u001b[37m\u001b[0m \u001b[1m2s\u001b[0m 290ms/step - accuracy: 0.3518 - loss: 0.3668 - val_accuracy: 0.5625 - val_loss: 0.2962\n",
      "Epoch 9/30\n",
      "\u001b[1m8/8\u001b[0m \u001b[32m━━━━━━━━━━━━━━━━━━━━\u001b[0m\u001b[37m\u001b[0m \u001b[1m2s\u001b[0m 295ms/step - accuracy: 0.1259 - loss: 0.3578 - val_accuracy: 0.7500 - val_loss: 0.2761\n",
      "Epoch 10/30\n",
      "\u001b[1m8/8\u001b[0m \u001b[32m━━━━━━━━━━━━━━━━━━━━\u001b[0m\u001b[37m\u001b[0m \u001b[1m2s\u001b[0m 296ms/step - accuracy: 0.3064 - loss: 0.3119 - val_accuracy: 0.6875 - val_loss: 0.2406\n",
      "Epoch 11/30\n",
      "\u001b[1m8/8\u001b[0m \u001b[32m━━━━━━━━━━━━━━━━━━━━\u001b[0m\u001b[37m\u001b[0m \u001b[1m2s\u001b[0m 294ms/step - accuracy: 0.2719 - loss: 0.3148 - val_accuracy: 0.6875 - val_loss: 0.2143\n",
      "Epoch 12/30\n",
      "\u001b[1m8/8\u001b[0m \u001b[32m━━━━━━━━━━━━━━━━━━━━\u001b[0m\u001b[37m\u001b[0m \u001b[1m2s\u001b[0m 283ms/step - accuracy: 0.4177 - loss: 0.2643 - val_accuracy: 0.6875 - val_loss: 0.1871\n",
      "Epoch 13/30\n",
      "\u001b[1m8/8\u001b[0m \u001b[32m━━━━━━━━━━━━━━━━━━━━\u001b[0m\u001b[37m\u001b[0m \u001b[1m2s\u001b[0m 289ms/step - accuracy: 0.4975 - loss: 0.2240 - val_accuracy: 0.6875 - val_loss: 0.1801\n",
      "Epoch 14/30\n",
      "\u001b[1m8/8\u001b[0m \u001b[32m━━━━━━━━━━━━━━━━━━━━\u001b[0m\u001b[37m\u001b[0m \u001b[1m2s\u001b[0m 288ms/step - accuracy: 0.3119 - loss: 0.2539 - val_accuracy: 0.6875 - val_loss: 0.1856\n",
      "Epoch 15/30\n",
      "\u001b[1m8/8\u001b[0m \u001b[32m━━━━━━━━━━━━━━━━━━━━\u001b[0m\u001b[37m\u001b[0m \u001b[1m2s\u001b[0m 288ms/step - accuracy: 0.4024 - loss: 0.2058 - val_accuracy: 0.6875 - val_loss: 0.1758\n",
      "Epoch 16/30\n",
      "\u001b[1m8/8\u001b[0m \u001b[32m━━━━━━━━━━━━━━━━━━━━\u001b[0m\u001b[37m\u001b[0m \u001b[1m2s\u001b[0m 293ms/step - accuracy: 0.4219 - loss: 0.1738 - val_accuracy: 0.6875 - val_loss: 0.1370\n",
      "Epoch 17/30\n",
      "\u001b[1m8/8\u001b[0m \u001b[32m━━━━━━━━━━━━━━━━━━━━\u001b[0m\u001b[37m\u001b[0m \u001b[1m2s\u001b[0m 288ms/step - accuracy: 0.6112 - loss: 0.1771 - val_accuracy: 0.6250 - val_loss: 0.1384\n",
      "Epoch 18/30\n",
      "\u001b[1m8/8\u001b[0m \u001b[32m━━━━━━━━━━━━━━━━━━━━\u001b[0m\u001b[37m\u001b[0m \u001b[1m2s\u001b[0m 275ms/step - accuracy: 0.4818 - loss: 0.1909 - val_accuracy: 0.6250 - val_loss: 0.1291\n",
      "Epoch 19/30\n",
      "\u001b[1m8/8\u001b[0m \u001b[32m━━━━━━━━━━━━━━━━━━━━\u001b[0m\u001b[37m\u001b[0m \u001b[1m2s\u001b[0m 267ms/step - accuracy: 0.5965 - loss: 0.1700 - val_accuracy: 0.6875 - val_loss: 0.1302\n",
      "Epoch 20/30\n",
      "\u001b[1m8/8\u001b[0m \u001b[32m━━━━━━━━━━━━━━━━━━━━\u001b[0m\u001b[37m\u001b[0m \u001b[1m2s\u001b[0m 269ms/step - accuracy: 0.4055 - loss: 0.1930 - val_accuracy: 0.6875 - val_loss: 0.0962\n",
      "Epoch 21/30\n",
      "\u001b[1m8/8\u001b[0m \u001b[32m━━━━━━━━━━━━━━━━━━━━\u001b[0m\u001b[37m\u001b[0m \u001b[1m2s\u001b[0m 266ms/step - accuracy: 0.4820 - loss: 0.1452 - val_accuracy: 0.5625 - val_loss: 0.1245\n",
      "Epoch 22/30\n",
      "\u001b[1m8/8\u001b[0m \u001b[32m━━━━━━━━━━━━━━━━━━━━\u001b[0m\u001b[37m\u001b[0m \u001b[1m3s\u001b[0m 416ms/step - accuracy: 0.5533 - loss: 0.1222 - val_accuracy: 0.6250 - val_loss: 0.0866\n",
      "Epoch 23/30\n",
      "\u001b[1m8/8\u001b[0m \u001b[32m━━━━━━━━━━━━━━━━━━━━\u001b[0m\u001b[37m\u001b[0m \u001b[1m3s\u001b[0m 354ms/step - accuracy: 0.4942 - loss: 0.1392 - val_accuracy: 0.6875 - val_loss: 0.0928\n",
      "Epoch 24/30\n",
      "\u001b[1m8/8\u001b[0m \u001b[32m━━━━━━━━━━━━━━━━━━━━\u001b[0m\u001b[37m\u001b[0m \u001b[1m5s\u001b[0m 316ms/step - accuracy: 0.4875 - loss: 0.1589 - val_accuracy: 0.5625 - val_loss: 0.1446\n",
      "Epoch 25/30\n",
      "\u001b[1m8/8\u001b[0m \u001b[32m━━━━━━━━━━━━━━━━━━━━\u001b[0m\u001b[37m\u001b[0m \u001b[1m2s\u001b[0m 280ms/step - accuracy: 0.4311 - loss: 0.0938 - val_accuracy: 0.5625 - val_loss: 0.0998\n",
      "Epoch 26/30\n",
      "\u001b[1m8/8\u001b[0m \u001b[32m━━━━━━━━━━━━━━━━━━━━\u001b[0m\u001b[37m\u001b[0m \u001b[1m2s\u001b[0m 277ms/step - accuracy: 0.5945 - loss: 0.1393 - val_accuracy: 0.5625 - val_loss: 0.0721\n",
      "Epoch 27/30\n",
      "\u001b[1m8/8\u001b[0m \u001b[32m━━━━━━━━━━━━━━━━━━━━\u001b[0m\u001b[37m\u001b[0m \u001b[1m2s\u001b[0m 306ms/step - accuracy: 0.5654 - loss: 0.1421 - val_accuracy: 0.5625 - val_loss: 0.0763\n",
      "Epoch 28/30\n",
      "\u001b[1m8/8\u001b[0m \u001b[32m━━━━━━━━━━━━━━━━━━━━\u001b[0m\u001b[37m\u001b[0m \u001b[1m2s\u001b[0m 302ms/step - accuracy: 0.5148 - loss: 0.1337 - val_accuracy: 0.5625 - val_loss: 0.0837\n",
      "Epoch 29/30\n",
      "\u001b[1m8/8\u001b[0m \u001b[32m━━━━━━━━━━━━━━━━━━━━\u001b[0m\u001b[37m\u001b[0m \u001b[1m2s\u001b[0m 293ms/step - accuracy: 0.5836 - loss: 0.1232 - val_accuracy: 0.6875 - val_loss: 0.0772\n",
      "Epoch 30/30\n",
      "\u001b[1m8/8\u001b[0m \u001b[32m━━━━━━━━━━━━━━━━━━━━\u001b[0m\u001b[37m\u001b[0m \u001b[1m2s\u001b[0m 300ms/step - accuracy: 0.4615 - loss: 0.1456 - val_accuracy: 0.5625 - val_loss: 0.0679\n"
     ]
    }
   ],
   "source": [
    "\n",
    "history = model.fit(\n",
    "    X_train, y_train,\n",
    "    validation_data=(X_val, y_val),\n",
    "    epochs=30,              \n",
    "    batch_size=8,\n",
    "    verbose=1\n",
    ")"
   ]
  },
  {
   "cell_type": "code",
   "execution_count": 10,
   "id": "147e2675",
   "metadata": {},
   "outputs": [
    {
     "name": "stdout",
     "output_type": "stream",
     "text": [
      "\u001b[1m1/1\u001b[0m \u001b[32m━━━━━━━━━━━━━━━━━━━━\u001b[0m\u001b[37m\u001b[0m \u001b[1m0s\u001b[0m 227ms/step\n",
      "                 precision    recall  f1-score   support\n",
      "\n",
      "   CONTENT_HIGH       1.00      0.71      0.83         7\n",
      "    CONTENT_LOW       1.00      1.00      1.00         1\n",
      "     COVER_NONE       1.00      1.00      1.00         1\n",
      " BOTTLE_SMASHED       0.00      0.00      0.00         0\n",
      "    LABEL_WHITE       1.00      1.00      1.00         1\n",
      "LABEL_MISPLACED       1.00      1.00      1.00         2\n",
      "     LABEL_NONE       1.00      1.00      1.00         2\n",
      "    BOTTLE_NONE       1.00      1.00      1.00         2\n",
      "\n",
      "      micro avg       1.00      0.88      0.93        16\n",
      "      macro avg       0.88      0.84      0.85        16\n",
      "   weighted avg       1.00      0.88      0.93        16\n",
      "    samples avg       0.69      0.66      0.67        16\n",
      "\n",
      "Acurácia exata (multi-label): 87.50%\n"
     ]
    }
   ],
   "source": [
    "from sklearn.metrics import classification_report\n",
    "\n",
    "y_pred_prob = model.predict(X_val)\n",
    "threshold = 0.5\n",
    "y_pred = (y_pred_prob >= threshold).astype(int)\n",
    "\n",
    "print(classification_report(y_val, y_pred, target_names=[\n",
    "    \"CONTENT_HIGH\",\n",
    "    \"CONTENT_LOW\",\n",
    "    \"COVER_NONE\",\n",
    "    \"BOTTLE_SMASHED\",\n",
    "    \"LABEL_WHITE\",\n",
    "    \"LABEL_MISPLACED\",\n",
    "    \"LABEL_NONE\",\n",
    "    \"BOTTLE_NONE\"\n",
    "]))\n",
    "\n",
    "accuracy = np.mean(np.all(y_val == y_pred, axis=1))\n",
    "print(f\"Acurácia exata (multi-label): {accuracy * 100:.2f}%\")\n"
   ]
  },
  {
   "cell_type": "markdown",
   "id": "6f624d7e",
   "metadata": {},
   "source": [
    "TESTE###########################"
   ]
  },
  {
   "cell_type": "code",
   "execution_count": null,
   "id": "2a9cb4d3",
   "metadata": {},
   "outputs": [
    {
     "name": "stdout",
     "output_type": "stream",
     "text": [
      "\u001b[1m2/2\u001b[0m \u001b[32m━━━━━━━━━━━━━━━━━━━━\u001b[0m\u001b[37m\u001b[0m \u001b[1m0s\u001b[0m 190ms/step\n",
      "Arquivo 'sample_submission.csv' atualizado com predições inteiras.\n"
     ]
    }
   ],
   "source": [
    "\n",
    "submission_df = pd.read_csv(\"sample_submission.csv\")\n",
    "\n",
    "X_test, nomes_testes = carregar_imagens(\"./test\")\n",
    "y_pred_prob = model.predict(X_test)\n",
    "y_pred = (y_pred_prob >= 0.5).astype(int)  # Já está como inteiros\n",
    "\n",
    "submission_df.set_index(\"id\", inplace=True)\n",
    "\n",
    "for nome, pred in zip(nomes_testes, y_pred):\n",
    "    submission_df.loc[nome] = pred  \n",
    "\n",
    "submission_df.reset_index(inplace=True)\n",
    "\n",
    "submission_df.to_csv(\"sample_submission.csv\", index=False)"
   ]
  }
 ],
 "metadata": {
  "kernelspec": {
   "display_name": "Python 3",
   "language": "python",
   "name": "python3"
  },
  "language_info": {
   "codemirror_mode": {
    "name": "ipython",
    "version": 3
   },
   "file_extension": ".py",
   "mimetype": "text/x-python",
   "name": "python",
   "nbconvert_exporter": "python",
   "pygments_lexer": "ipython3",
   "version": "3.11.9"
  }
 },
 "nbformat": 4,
 "nbformat_minor": 5
}
